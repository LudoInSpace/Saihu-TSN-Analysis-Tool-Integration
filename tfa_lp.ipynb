{
 "cells": [
  {
   "cell_type": "markdown",
   "metadata": {},
   "source": [
    "Polynomial-sized Linear Programming For Worst-case Analysis of Time-Sensitive Networks\n",
    "====================\n",
    "The work is based on the result of [Trade-off between accuracy and tractability of Network Calculus in FIFO networks](https://doi.org/10.1016/j.peva.2021.102250). "
   ]
  },
  {
   "cell_type": "code",
   "execution_count": 13,
   "metadata": {},
   "outputs": [],
   "source": [
    "import pulp\n",
    "import numpy as np"
   ]
  },
  {
   "cell_type": "markdown",
   "metadata": {},
   "source": [
    "Linear Program Solver of TFA\n",
    "------------------\n",
    "- Try to implement the toy example of Fig 6. of the paper\n",
    "- This simple setting is without shaper"
   ]
  },
  {
   "cell_type": "markdown",
   "metadata": {},
   "source": [
    "## Variables\n",
    "All indices start with 0, (some indexing may differ from that in the paper)\n",
    "### Network Params\n",
    "- Graph: Adjacency matrix\n",
    "- Flow: list of list, ordered as data flow\n",
    "- Arrival constraints $\\gamma_{b,r}$: row=flow arrival curve, col=[burst ($b$), rate ($r$)]\n",
    "- Service constraints $\\beta_{R, T}$: row=server service curve, col=[rate ($R$), latency ($L$)]"
   ]
  },
  {
   "cell_type": "code",
   "execution_count": 14,
   "metadata": {},
   "outputs": [],
   "source": [
    "# Global arrival/service parameters\n",
    "BURST    = 1 # arrival burst\n",
    "ARR_RATE = 1 # arrival rate\n",
    "LATENCY  = 1 # service latency\n",
    "SER_RATE = 4 # service rate\n",
    "# Network\n",
    "ADJ_MAT = np.array([[0, 1], [0, 0]])    # network topology, from server 0 -> server 1\n",
    "FLOWS = [[0,1], [0], [1]]                # data flows\n",
    "NUM_FLOW = len(FLOWS)\n",
    "NUM_SERVER = ADJ_MAT.shape[0]\n",
    "\n",
    "ARRIVALS = np.repeat(np.array([[BURST, ARR_RATE]]), NUM_FLOW, axis=0)\n",
    "SERVICES = np.repeat(np.array([[SER_RATE, LATENCY]]), NUM_SERVER, axis=0)\n"
   ]
  },
  {
   "cell_type": "code",
   "execution_count": 15,
   "metadata": {},
   "outputs": [],
   "source": [
    "def get_flows(server: int) -> list:\n",
    "    '''\n",
    "    Given a server j, find the indices of flow Fl(j) that passes server j\n",
    "    the answer is returned in a list\n",
    "    '''\n",
    "    idx = 0\n",
    "    involved_flows = []\n",
    "    for fl in FLOWS:\n",
    "        if server in fl:\n",
    "            involved_flows.append(idx)\n",
    "        idx += 1\n",
    "\n",
    "    return involved_flows\n",
    "\n",
    "def get_successor(server: int) -> list:\n",
    "    '''\n",
    "    Given a server j, find the indices of servers which are successors of j\n",
    "    the answer is returned in a list\n",
    "    '''\n",
    "    succ = np.argwhere(ADJ_MAT[server])\n",
    "    if len(succ) == 0:\n",
    "        return []\n",
    "    else:\n",
    "        return list(np.argwhere(ADJ_MAT[server])[0])\n",
    "\n",
    "def var_set_name(name: str, *indices) -> str:\n",
    "    '''\n",
    "    Format the variable name. For example,\n",
    "    base name: 'x', indices are 1 and 2, then the name is set as 'x_1,2'\n",
    "    '''\n",
    "    name += '_'\n",
    "    for idx in indices:\n",
    "        name += str(idx) + ','\n",
    "\n",
    "    return name[:-1]\n",
    "\n",
    "def var_get_name(name: str) -> tuple:\n",
    "    '''\n",
    "    Obtain the base name and indices from the formated variable name. For example,\n",
    "    \"x_1,2\" -> ('x', [1,2])\n",
    "    '''\n",
    "    base_name, indices = name.split('_')\n",
    "    indices = indices.split(',')\n",
    "    indices = [int(idx) for idx in indices]\n",
    "    \n",
    "    return base_name, indices"
   ]
  },
  {
   "cell_type": "markdown",
   "metadata": {},
   "source": [
    "### Define the Linear Program\n",
    "**Variables**\n",
    "- $s_j$ and $t_j$ are the time where data goes into server $j$ and leaves respectively. Here we use `in_time` and `out_time`.\n",
    "- $d_j$ is the delay experienced at server $j$. Here we use `delays`.\n",
    "- $A_i^{(j)}s_j$ is the cumulative data volume for flow $i$ that arrives at server $j$. Here we use `arrivals`.\n",
    "- $D_i^{(j)}t_j$ is the cumulative data volume for flow $i$ that departs from server $j$. Here we use `departures`.\n",
    "- $x_i^{(j)}$ is the possible burst experienced for flow $i$ that arrives at server $j$. Here we use `bursts`.\n",
    "\n",
    "**Objective**\n",
    "\n",
    "The objective is to maximize total delay $\\sum_j d_j$."
   ]
  },
  {
   "cell_type": "code",
   "execution_count": 16,
   "metadata": {},
   "outputs": [],
   "source": [
    "# setup the lp problem for the TFA Linear program\n",
    "tfa_prog = pulp.LpProblem('tfa_prog', pulp.LpMaximize)\n",
    "# variables\n",
    "in_time    = [None]*NUM_SERVER\n",
    "out_time   = [None]*NUM_SERVER\n",
    "delays     = [None]*NUM_SERVER\n",
    "arrivals   = [[None]*NUM_SERVER for _ in range(NUM_FLOW)]\n",
    "departures = [[None]*NUM_SERVER for _ in range(NUM_FLOW)]\n",
    "bursts     = [[None]*NUM_SERVER for _ in range(NUM_FLOW)]\n",
    "\n",
    "# for all server j\n",
    "for server in range(NUM_SERVER):\n",
    "    # Time constraints\n",
    "    s_var = var_set_name('s', server)\n",
    "    t_var = var_set_name('t', server)\n",
    "    in_time[server]  = pulp.LpVariable(s_var, 0)\n",
    "    out_time[server] = pulp.LpVariable(t_var)\n",
    "    \n",
    "    tfa_prog += in_time[server] <= out_time[server]    # add constraint that s <= t\n",
    "\n",
    "    # Arrival constraints\n",
    "    for fl in get_flows(server):\n",
    "        As_var = var_set_name('As', fl, server)\n",
    "        x_var  = var_set_name('x' , fl, server)\n",
    "        Dt_var = var_set_name('Dt', fl, server)\n",
    "        arrivals[fl][server]   = pulp.LpVariable(As_var)\n",
    "        bursts[fl][server]     = pulp.LpVariable(x_var)\n",
    "        departures[fl][server] = pulp.LpVariable(Dt_var)\n",
    "\n",
    "        tfa_prog += arrivals[fl][server] <= bursts[fl][server] + ARRIVALS[fl][1]*in_time[server]\n",
    "\n",
    "    # Service constraints\n",
    "    tfa_prog += pulp.lpSum([departures[fl][server] for fl in get_flows(server)]) >= SERVICES[server][0]*out_time[server] - SERVICES[server][0]*SERVICES[server][1]\n",
    "    tfa_prog += pulp.lpSum([departures[fl][server] for fl in get_flows(server)]) >= 0\n",
    "\n",
    "    # FIFO constraints\n",
    "    for fl in get_flows(server):\n",
    "        tfa_prog += arrivals[fl][server] == departures[fl][server]\n",
    "\n",
    "    # delays\n",
    "    d_var = var_set_name('d', server)\n",
    "    delays[server] = pulp.LpVariable(d_var)\n",
    "\n",
    "    tfa_prog += delays[server] <= out_time[server] - in_time[server]\n",
    "\n",
    "# Constraints on burst variables (x)\n",
    "# Burst propagation\n",
    "for server in range(NUM_SERVER):\n",
    "    for fl in get_flows(server):\n",
    "        for succ in get_successor(server):\n",
    "            tfa_prog += bursts[fl][succ] <= bursts[fl][server] + ARRIVALS[fl][1]*delays[server]\n",
    "\n",
    "for flow_idx, flow in enumerate(FLOWS):\n",
    "    tfa_prog += bursts[flow_idx][flow[0]] <= ARRIVALS[fl][0]\n",
    "\n",
    "# Set objective function\n",
    "tfa_prog += pulp.lpSum(delays)\n"
   ]
  },
  {
   "cell_type": "code",
   "execution_count": 37,
   "metadata": {},
   "outputs": [],
   "source": [
    "status = tfa_prog.solve(pulp.PULP_CBC_CMD(msg=False))"
   ]
  },
  {
   "cell_type": "code",
   "execution_count": 38,
   "metadata": {},
   "outputs": [
    {
     "name": "stdout",
     "output_type": "stream",
     "text": [
      "Status: Optimal\n",
      "Delays:\n",
      "--------\n",
      "d0: 1.5\n",
      "d1: 1.875\n",
      "total = 3.375\n"
     ]
    }
   ],
   "source": [
    "print(\"Status:\", pulp.LpStatus[status])\n",
    "print(\"Delays:\\n--------\")\n",
    "total_delay = 0\n",
    "for idx, d in enumerate(delays):\n",
    "    print(\"d\"+str(idx)+\":\", pulp.value(d))\n",
    "    total_delay += pulp.value(d)\n",
    "print(\"total =\", total_delay)\n"
   ]
  },
  {
   "cell_type": "markdown",
   "metadata": {},
   "source": [
    "### Iterative method\n",
    "Implementation of Algorithm 1 - TFA"
   ]
  },
  {
   "cell_type": "code",
   "execution_count": 35,
   "metadata": {},
   "outputs": [
    {
     "name": "stdout",
     "output_type": "stream",
     "text": [
      "Optimal d = [1.5, 1.875]\n",
      "Sum = 3.375\n"
     ]
    }
   ],
   "source": [
    "b = 0\n",
    "b_ij = np.zeros((NUM_FLOW, NUM_SERVER))\n",
    "for idx, fl in enumerate(FLOWS):\n",
    "    b_ij[idx, fl[0]] = ARRIVALS[idx, 0]\n",
    "d_j = [0]*NUM_SERVER\n",
    "\n",
    "for s in range(NUM_SERVER):\n",
    "    fls = get_flows(s)\n",
    "    b = np.sum(b_ij[fls, s])\n",
    "    d_j[s] = SERVICES[s, 1] + b/SERVICES[s, 0]\n",
    "    for fl in fls:\n",
    "        for succ in get_successor(s):\n",
    "            b_ij[fl, succ] = b_ij[fl, s] + ARRIVALS[fl, 1]*d_j[s]\n",
    "\n",
    "print(\"Optimal d =\", d_j)\n",
    "print(\"Sum =\", sum(d_j))"
   ]
  },
  {
   "cell_type": "markdown",
   "metadata": {},
   "source": [
    "### TFA++\n",
    "If shapers are added, using linear program"
   ]
  },
  {
   "cell_type": "code",
   "execution_count": 33,
   "metadata": {},
   "outputs": [
    {
     "name": "stdout",
     "output_type": "stream",
     "text": [
      "Welcome to the CBC MILP Solver \n",
      "Version: 2.10.3 \n",
      "Build Date: Dec 15 2019 \n",
      "\n",
      "command line - /Library/Frameworks/Python.framework/Versions/3.9/lib/python3.9/site-packages/pulp/apis/../solverdir/cbc/osx/64/cbc /var/folders/54/0g1ch2216h50ggt6hgkp5vjw0000gn/T/7859a422ef734de4a8601d3dde1eb666-pulp.mps max timeMode elapsed branch printingOptions all solution /var/folders/54/0g1ch2216h50ggt6hgkp5vjw0000gn/T/7859a422ef734de4a8601d3dde1eb666-pulp.sol (default strategy 1)\n",
      "At line 2 NAME          MODEL\n",
      "At line 3 ROWS\n",
      "At line 27 COLUMNS\n",
      "At line 80 RHS\n",
      "At line 103 BOUNDS\n",
      "At line 120 ENDATA\n",
      "Problem MODEL has 22 rows, 18 columns and 50 elements\n",
      "Coin0008I MODEL read with 0 errors\n",
      "Option for timeMode changed from cpu to elapsed\n",
      "Presolve 9 (-13) rows, 6 (-12) columns and 22 (-28) elements\n",
      "0  Obj -1.025 Primal inf 6.1333303 (3) Dual inf 1.249998 (2)\n",
      "0  Obj -1.025 Primal inf 6.1333303 (3) Dual inf 3.3383333e+10 (5) w.o. free dual inf (3)\n",
      "8  Obj 2.9583333\n",
      "Optimal - objective value 2.9583333\n",
      "After Postsolve, objective 2.9583333, infeasibilities - dual 0 (0), primal 0 (0)\n",
      "Optimal objective 2.958333333 - 8 iterations time 0.002, Presolve 0.00\n",
      "Option for printingOptions changed from normal to all\n",
      "Total time (CPU seconds):       0.00   (Wallclock seconds):       0.00\n",
      "\n"
     ]
    }
   ],
   "source": [
    "PKT_LENGTH = 0\n",
    "CAPACITY = 4\n",
    "SHAPERS = np.repeat(np.array([[PKT_LENGTH, CAPACITY]]), NUM_SERVER, axis=0)\n",
    "\n",
    "# TFA++ (with shaper)\n",
    "tfa_prog_pp = tfa_prog.copy()\n",
    "\n",
    "# Adding shaping constraint\n",
    "for s in range(NUM_SERVER):\n",
    "    for succ in get_successor(s):\n",
    "        flows_prev = set(get_flows(s))\n",
    "        flows_next = set(get_flows(succ))\n",
    "        mutual_flows = list(flows_prev.intersection(flows_next))\n",
    "        tfa_prog_pp += pulp.lpSum(arrivals[fl][succ] for fl in mutual_flows) <= SHAPERS[s, 0] + SHAPERS[s, 1]*in_time[succ]\n",
    "\n",
    "# Solve\n",
    "status = tfa_prog_pp.solve()"
   ]
  },
  {
   "cell_type": "code",
   "execution_count": 34,
   "metadata": {},
   "outputs": [
    {
     "name": "stdout",
     "output_type": "stream",
     "text": [
      "Status: Optimal\n",
      "Delays:\n",
      "--------\n",
      "d0: 1.5\n",
      "d1: 1.4583333\n",
      "total = 2.9583333\n"
     ]
    }
   ],
   "source": [
    "print(\"Status:\", pulp.LpStatus[status])\n",
    "print(\"Delays:\\n--------\")\n",
    "total_delay = 0\n",
    "for idx, d in enumerate(delays):\n",
    "    print(\"d\"+str(idx)+\":\", pulp.value(d))\n",
    "    total_delay += pulp.value(d)\n",
    "print(\"total =\", total_delay)"
   ]
  }
 ],
 "metadata": {
  "kernelspec": {
   "display_name": "Python 3.9.7 64-bit",
   "language": "python",
   "name": "python3"
  },
  "language_info": {
   "codemirror_mode": {
    "name": "ipython",
    "version": 3
   },
   "file_extension": ".py",
   "mimetype": "text/x-python",
   "name": "python",
   "nbconvert_exporter": "python",
   "pygments_lexer": "ipython3",
   "version": "3.9.7"
  },
  "orig_nbformat": 4,
  "vscode": {
   "interpreter": {
    "hash": "aee8b7b246df8f9039afb4144a1f6fd8d2ca17a180786b69acc140d282b71a49"
   }
  }
 },
 "nbformat": 4,
 "nbformat_minor": 2
}
